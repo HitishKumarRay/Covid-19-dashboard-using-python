{
 "cells": [
  {
   "cell_type": "code",
   "execution_count": null,
   "metadata": {},
   "outputs": [
    {
     "name": "stdout",
     "output_type": "stream",
     "text": [
      "Dash is running on http://127.0.0.1:2023/\n",
      "\n",
      " * Serving Flask app \"__main__\" (lazy loading)\n",
      " * Environment: production\n",
      "   WARNING: This is a development server. Do not use it in a production deployment.\n",
      "   Use a production WSGI server instead.\n",
      " * Debug mode: off\n"
     ]
    },
    {
     "name": "stderr",
     "output_type": "stream",
     "text": [
      " * Running on http://127.0.0.1:2023/ (Press CTRL+C to quit)\n",
      "127.0.0.1 - - [09/Mar/2022 17:55:58] \"\u001b[37mGET / HTTP/1.1\u001b[0m\" 200 -\n",
      "127.0.0.1 - - [09/Mar/2022 17:55:58] \"\u001b[37mGET /_dash-component-suites/dash_renderer/react@16.v1_8_2m1603970252.13.0.min.js HTTP/1.1\u001b[0m\" 200 -\n",
      "127.0.0.1 - - [09/Mar/2022 17:55:58] \"\u001b[37mGET /_dash-component-suites/dash_renderer/polyfill@7.v1_8_2m1603970252.8.7.min.js HTTP/1.1\u001b[0m\" 200 -\n",
      "127.0.0.1 - - [09/Mar/2022 17:55:58] \"\u001b[37mGET /_dash-component-suites/dash_renderer/prop-types@15.v1_8_2m1603970252.7.2.min.js HTTP/1.1\u001b[0m\" 200 -\n",
      "127.0.0.1 - - [09/Mar/2022 17:55:58] \"\u001b[37mGET /_dash-component-suites/dash_renderer/react-dom@16.v1_8_2m1603970252.13.0.min.js HTTP/1.1\u001b[0m\" 200 -\n",
      "127.0.0.1 - - [09/Mar/2022 17:55:58] \"\u001b[37mGET /_dash-component-suites/dash_core_components/dash_core_components-shared.v1_12_1m1603970255.js HTTP/1.1\u001b[0m\" 200 -\n",
      "127.0.0.1 - - [09/Mar/2022 17:55:58] \"\u001b[37mGET /_dash-component-suites/dash_core_components/dash_core_components.v1_12_1m1603970255.min.js HTTP/1.1\u001b[0m\" 200 -\n",
      "127.0.0.1 - - [09/Mar/2022 17:55:58] \"\u001b[37mGET /_dash-component-suites/dash_html_components/dash_html_components.v1_1_1m1603970258.min.js HTTP/1.1\u001b[0m\" 200 -\n",
      "127.0.0.1 - - [09/Mar/2022 17:55:58] \"\u001b[37mGET /_dash-component-suites/dash_renderer/dash_renderer.v1_8_2m1603970252.min.js HTTP/1.1\u001b[0m\" 200 -\n",
      "127.0.0.1 - - [09/Mar/2022 17:55:58] \"\u001b[37mGET /_dash-layout HTTP/1.1\u001b[0m\" 200 -\n",
      "127.0.0.1 - - [09/Mar/2022 17:55:58] \"\u001b[37mGET /_dash-dependencies HTTP/1.1\u001b[0m\" 200 -\n",
      "127.0.0.1 - - [09/Mar/2022 17:55:58] \"\u001b[37mGET /_favicon.ico?v=1.16.3 HTTP/1.1\u001b[0m\" 200 -\n",
      "127.0.0.1 - - [09/Mar/2022 17:55:58] \"\u001b[37mGET /_dash-component-suites/dash_core_components/async-graph.v1_12_1m1600286997.js HTTP/1.1\u001b[0m\" 200 -\n",
      "127.0.0.1 - - [09/Mar/2022 17:55:58] \"\u001b[37mGET /_dash-component-suites/dash_core_components/async-dropdown.v1_12_1m1600286997.js HTTP/1.1\u001b[0m\" 200 -\n",
      "127.0.0.1 - - [09/Mar/2022 17:55:58] \"\u001b[37mPOST /_dash-update-component HTTP/1.1\u001b[0m\" 200 -\n",
      "127.0.0.1 - - [09/Mar/2022 17:55:59] \"\u001b[37mGET /_dash-component-suites/dash_core_components/async-plotlyjs.v1_12_1m1600286997.js HTTP/1.1\u001b[0m\" 200 -\n",
      "127.0.0.1 - - [09/Mar/2022 17:56:05] \"\u001b[37mPOST /_dash-update-component HTTP/1.1\u001b[0m\" 200 -\n",
      "127.0.0.1 - - [09/Mar/2022 17:56:11] \"\u001b[37mPOST /_dash-update-component HTTP/1.1\u001b[0m\" 200 -\n"
     ]
    }
   ],
   "source": [
    "import dash\n",
    "import dash_core_components as dcc\n",
    "import dash_html_components as html\n",
    "import plotly.graph_objs as go\n",
    "import pandas as pd\n",
    "from dash.dependencies import Input, Output\n",
    "fig = go.Figure()\n",
    "app = dash.Dash()\n",
    "\n",
    "df = pd.read_csv('covid.csv')\n",
    "df1 = pd.read_excel('Month.xlsx')\n",
    "\n",
    "app.layout = html.Div([html.Div(html.H1('Covid-19 Dash Board of Maharashtra',style={'color':'white',\n",
    "                                                    'text-align':'center',\n",
    "                                                    'background-color':'black',\n",
    "                                                    'border-style':'double',\n",
    "                                                    'display':'inline-block',\n",
    "                                                    'width':'100%'\n",
    "                                                    })),\n",
    "                html.Div(dcc.Dropdown(id='dropdown1',options=[{'label':'New Cases','value':'19'},\n",
    "                                                              {'label':'Death Cases','value':'18'},\n",
    "                                                              {'label':'Positive Cases','value':'17'},\n",
    "                                                              {'label':'Active Cases','value':'16'},\n",
    "                                                              {'label':'Recovered Cases','value':'15'},\n",
    "                                                              {'label':'Deceased Cases','value':'14'},\n",
    "                                                              {'label':'Fatality Rate','value':'13'},\n",
    "                                                              {'label':'Recovery Rate','value':'12'},\n",
    "                                                              {'label':'Total tests','value':'11'}],\n",
    "                                                              placeholder='Select an option'),\n",
    "                                                              style={'width':'20%','display':'inline-block'}),\n",
    "                html.Div(dcc.Graph(id='firstgraph1',figure=fig,style={'width':'100%','display':'inline-block'}))\n",
    "                    ])\n",
    "@app.callback(\n",
    "     Output('firstgraph1','figure'),\n",
    "     [Input('dropdown1','value')])\n",
    "\n",
    "def update_figure(dropdown1):\n",
    "    global fig\n",
    "    if dropdown1 == '19':\n",
    "        fig = go.Figure(go.Bar(x=df1['Months'],y=df1['New Cases']))\n",
    "        fig.update_layout(title='New Cases')\n",
    "    if dropdown1 == '18':\n",
    "        fig = go.Figure(go.Heatmap(x=df1['Months'],y=df1['Death Cases'],z=df1['New Cases']))\n",
    "        fig.update_layout(title='Death Cases')\n",
    "    if dropdown1 == '17':\n",
    "        fig = go.Figure(go.Scatter(x=df['Districts'],y=df['PositiveCases'],mode=\"markers\"))\n",
    "        fig.update_layout(title='Positive Cases')\n",
    "    if dropdown1 == '16':\n",
    "        fig = go.Figure(go.Scatter(x=df['Districts'],y=df['ActiveCases'],mode='markers+lines'))\n",
    "        fig.update_layout(title='Active Cases')\n",
    "    if dropdown1 == '15':\n",
    "        fig = go.Figure(go.Box(x=df['Districts'],y=df['RecoveredCases']))\n",
    "        fig.update_layout(title='Recovered Cases',boxgap=0.00005)\n",
    "    if dropdown1 == '14':\n",
    "        fig = go.Figure(go.Histogram(x=df['Districts'],y=df['DeceasedCases']))\n",
    "        fig.update_layout(title='Deceased Cases')\n",
    "    if dropdown1 == '13':\n",
    "        fig = go.Figure(go.Bar(x=df['Districts'],y=df['FatalityRate']))\n",
    "        fig.update_layout(title='Fatality Rate')\n",
    "    if dropdown1 == '12':\n",
    "        fig = go.Figure(go.Bar(x=df['Districts'],y=df['RecoveryRate']))\n",
    "        fig.update_layout(title='Recovery Rate')\n",
    "    if dropdown1 == '11':\n",
    "        fig = go.Figure(go.Scatter(x=df['Districts'],y=df['TotalTests'],mode='markers',marker_line_width=20.5))\n",
    "        fig.update_layout(title='Total tests')\n",
    "    return fig\n",
    "if __name__ == '__main__':\n",
    "    app.run_server(port=2023)"
   ]
  },
  {
   "cell_type": "code",
   "execution_count": null,
   "metadata": {},
   "outputs": [],
   "source": []
  }
 ],
 "metadata": {
  "kernelspec": {
   "display_name": "Python 3",
   "language": "python",
   "name": "python3"
  },
  "language_info": {
   "codemirror_mode": {
    "name": "ipython",
    "version": 3
   },
   "file_extension": ".py",
   "mimetype": "text/x-python",
   "name": "python",
   "nbconvert_exporter": "python",
   "pygments_lexer": "ipython3",
   "version": "3.8.3"
  }
 },
 "nbformat": 4,
 "nbformat_minor": 4
}
